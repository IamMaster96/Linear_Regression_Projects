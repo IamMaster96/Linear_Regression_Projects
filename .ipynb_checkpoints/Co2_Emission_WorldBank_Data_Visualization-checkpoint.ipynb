{
 "cells": [
  {
   "cell_type": "code",
   "execution_count": 13,
   "id": "7d727959",
   "metadata": {},
   "outputs": [],
   "source": [
    "import wbgapi as wb\n",
    "import pandas as pd\n",
    "from matplotlib import pyplot as plt"
   ]
  },
  {
   "cell_type": "code",
   "execution_count": 14,
   "id": "487dcaf6-fb01-4bbd-9483-86d8ba145914",
   "metadata": {},
   "outputs": [],
   "source": [
    "wb.db=2"
   ]
  },
  {
   "cell_type": "code",
   "execution_count": 22,
   "id": "4087b34a-981b-44c7-9419-60b95fdb7199",
   "metadata": {},
   "outputs": [],
   "source": [
    "co2_emission_KT=wb.data.DataFrame (['EN.ATM.CO2E.KT','NY.GDP.PCAP.CD' ],['IND'],range (2015, 2016),numericTimeKeys=True,)"
   ]
  },
  {
   "cell_type": "code",
   "execution_count": 23,
   "id": "03f41d55-3d3e-4d7c-b62d-713bbd79e5e4",
   "metadata": {},
   "outputs": [
    {
     "data": {
      "text/html": [
       "<div>\n",
       "<style scoped>\n",
       "    .dataframe tbody tr th:only-of-type {\n",
       "        vertical-align: middle;\n",
       "    }\n",
       "\n",
       "    .dataframe tbody tr th {\n",
       "        vertical-align: top;\n",
       "    }\n",
       "\n",
       "    .dataframe thead th {\n",
       "        text-align: right;\n",
       "    }\n",
       "</style>\n",
       "<table border=\"1\" class=\"dataframe\">\n",
       "  <thead>\n",
       "    <tr style=\"text-align: right;\">\n",
       "      <th></th>\n",
       "      <th>1990</th>\n",
       "      <th>1991</th>\n",
       "      <th>1992</th>\n",
       "      <th>1993</th>\n",
       "      <th>1994</th>\n",
       "      <th>1995</th>\n",
       "      <th>1996</th>\n",
       "      <th>1997</th>\n",
       "      <th>1998</th>\n",
       "      <th>1999</th>\n",
       "      <th>...</th>\n",
       "      <th>2010</th>\n",
       "      <th>2011</th>\n",
       "      <th>2012</th>\n",
       "      <th>2013</th>\n",
       "      <th>2014</th>\n",
       "      <th>2015</th>\n",
       "      <th>2016</th>\n",
       "      <th>2017</th>\n",
       "      <th>2018</th>\n",
       "      <th>2019</th>\n",
       "    </tr>\n",
       "    <tr>\n",
       "      <th>series</th>\n",
       "      <th></th>\n",
       "      <th></th>\n",
       "      <th></th>\n",
       "      <th></th>\n",
       "      <th></th>\n",
       "      <th></th>\n",
       "      <th></th>\n",
       "      <th></th>\n",
       "      <th></th>\n",
       "      <th></th>\n",
       "      <th></th>\n",
       "      <th></th>\n",
       "      <th></th>\n",
       "      <th></th>\n",
       "      <th></th>\n",
       "      <th></th>\n",
       "      <th></th>\n",
       "      <th></th>\n",
       "      <th></th>\n",
       "      <th></th>\n",
       "      <th></th>\n",
       "    </tr>\n",
       "  </thead>\n",
       "  <tbody>\n",
       "    <tr>\n",
       "      <th>EN.ATM.CO2E.KT</th>\n",
       "      <td>563575.400000</td>\n",
       "      <td>607224.000000</td>\n",
       "      <td>626293.300000</td>\n",
       "      <td>651351.100000</td>\n",
       "      <td>685903.00000</td>\n",
       "      <td>737856.400000</td>\n",
       "      <td>774070.200000</td>\n",
       "      <td>819268.80000</td>\n",
       "      <td>836269.900000</td>\n",
       "      <td>901325.200000</td>\n",
       "      <td>...</td>\n",
       "      <td>1.659983e+06</td>\n",
       "      <td>1.756744e+06</td>\n",
       "      <td>1.909442e+06</td>\n",
       "      <td>1.972429e+06</td>\n",
       "      <td>2.147107e+06</td>\n",
       "      <td>2.158023e+06</td>\n",
       "      <td>2.195248e+06</td>\n",
       "      <td>2.308804e+06</td>\n",
       "      <td>2.458176e+06</td>\n",
       "      <td>2.423951e+06</td>\n",
       "    </tr>\n",
       "    <tr>\n",
       "      <th>NY.GDP.PCAP.CD</th>\n",
       "      <td>368.749759</td>\n",
       "      <td>303.850438</td>\n",
       "      <td>317.558739</td>\n",
       "      <td>301.500791</td>\n",
       "      <td>346.22661</td>\n",
       "      <td>373.628236</td>\n",
       "      <td>399.577312</td>\n",
       "      <td>414.89868</td>\n",
       "      <td>412.509354</td>\n",
       "      <td>440.962065</td>\n",
       "      <td>...</td>\n",
       "      <td>1.350634e+03</td>\n",
       "      <td>1.449603e+03</td>\n",
       "      <td>1.434018e+03</td>\n",
       "      <td>1.438057e+03</td>\n",
       "      <td>1.559864e+03</td>\n",
       "      <td>1.590174e+03</td>\n",
       "      <td>1.714280e+03</td>\n",
       "      <td>1.957970e+03</td>\n",
       "      <td>1.974378e+03</td>\n",
       "      <td>2.050164e+03</td>\n",
       "    </tr>\n",
       "  </tbody>\n",
       "</table>\n",
       "<p>2 rows × 30 columns</p>\n",
       "</div>"
      ],
      "text/plain": [
       "                         1990           1991           1992           1993  \\\n",
       "series                                                                       \n",
       "EN.ATM.CO2E.KT  563575.400000  607224.000000  626293.300000  651351.100000   \n",
       "NY.GDP.PCAP.CD     368.749759     303.850438     317.558739     301.500791   \n",
       "\n",
       "                        1994           1995           1996          1997  \\\n",
       "series                                                                     \n",
       "EN.ATM.CO2E.KT  685903.00000  737856.400000  774070.200000  819268.80000   \n",
       "NY.GDP.PCAP.CD     346.22661     373.628236     399.577312     414.89868   \n",
       "\n",
       "                         1998           1999  ...          2010          2011  \\\n",
       "series                                        ...                               \n",
       "EN.ATM.CO2E.KT  836269.900000  901325.200000  ...  1.659983e+06  1.756744e+06   \n",
       "NY.GDP.PCAP.CD     412.509354     440.962065  ...  1.350634e+03  1.449603e+03   \n",
       "\n",
       "                        2012          2013          2014          2015  \\\n",
       "series                                                                   \n",
       "EN.ATM.CO2E.KT  1.909442e+06  1.972429e+06  2.147107e+06  2.158023e+06   \n",
       "NY.GDP.PCAP.CD  1.434018e+03  1.438057e+03  1.559864e+03  1.590174e+03   \n",
       "\n",
       "                        2016          2017          2018          2019  \n",
       "series                                                                  \n",
       "EN.ATM.CO2E.KT  2.195248e+06  2.308804e+06  2.458176e+06  2.423951e+06  \n",
       "NY.GDP.PCAP.CD  1.714280e+03  1.957970e+03  1.974378e+03  2.050164e+03  \n",
       "\n",
       "[2 rows x 30 columns]"
      ]
     },
     "execution_count": 23,
     "metadata": {},
     "output_type": "execute_result"
    }
   ],
   "source": [
    "co2_emission_KT"
   ]
  },
  {
   "cell_type": "code",
   "execution_count": 24,
   "id": "c8794fee-072b-4d27-b823-f1dd238136db",
   "metadata": {},
   "outputs": [],
   "source": [
    "years=range(1990,2015)\n",
    "co2_emission_KT_np=co2_emission_KT.to_numpy()"
   ]
  },
  {
   "cell_type": "code",
   "execution_count": 25,
   "id": "14cfd36d-9251-44f3-a122-e9ca2f12ab06",
   "metadata": {},
   "outputs": [
    {
     "data": {
      "text/plain": [
       "[<matplotlib.lines.Line2D at 0x10fe64470>]"
      ]
     },
     "execution_count": 25,
     "metadata": {},
     "output_type": "execute_result"
    },
    {
     "data": {
      "image/png": "[encoded data removed]",
      "text/plain": [
       "<Figure size 640x480 with 1 Axes>"
      ]
     },
     "metadata": {},
     "output_type": "display_data"
    }
   ],
   "source": [
    "plt.plot(co2_emission_KT_np[1],co2_emission_KT_np[0],'o')\n",
    "\n",
    "#plt.plot(years,co2_emission_KT_np[3]*120,'o-')\n",
    "#plt.plot(years,co2_emission_KT_np[2],'o-')"
   ]
  },
  {
   "cell_type": "code",
   "execution_count": null,
   "id": "03eae73a-7669-47a4-8ee7-ae92dd8a0897",
   "metadata": {},
   "outputs": [],
   "source": []
  }
 ],
 "metadata": {
  "kernelspec": {
   "display_name": "Python 3 (ipykernel)",
   "language": "python",
   "name": "python3"
  },
  "language_info": {
   "codemirror_mode": {
    "name": "ipython",
    "version": 3
   },
   "file_extension": ".py",
   "mimetype": "text/x-python",
   "name": "python",
   "nbconvert_exporter": "python",
   "pygments_lexer": "ipython3",
   "version": "3.11.5"
  }
 },
 "nbformat": 4,
 "nbformat_minor": 5
}
